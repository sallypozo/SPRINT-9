{
 "cells": [
  {
   "cell_type": "code",
   "execution_count": 11,
   "id": "886870d5",
   "metadata": {},
   "outputs": [
    {
     "name": "stdout",
     "output_type": "stream",
     "text": [
      "['In recent years, there has been exceptional momentum in the progress of quantum technologies.', 'Quantum computing, communication and security are set to become a vital part of the connectivity fabric.', 'Are we ready for the Quantum Internet?', 'What is needed to achieve quantum-safe cybersecurity?', 'And what role will it play in the 6G era?']\n",
      "['In', 'recent', 'years', ',', 'there', 'has', 'been', 'exceptional', 'momentum', 'in', 'the', 'progress', 'of', 'quantum', 'technologies', '.', 'Quantum', 'computing', ',', 'communication', 'and', 'security', 'are', 'set', 'to', 'become', 'a', 'vital', 'part', 'of', 'the', 'connectivity', 'fabric', '.', 'Are', 'we', 'ready', 'for', 'the', 'Quantum', 'Internet', '?', 'What', 'is', 'needed', 'to', 'achieve', 'quantum-safe', 'cybersecurity', '?', 'And', 'what', 'role', 'will', 'it', 'play', 'in', 'the', '6G', 'era', '?']\n",
      "<FreqDist with 50 samples and 61 outcomes>\n"
     ]
    },
    {
     "data": {
      "image/png": "[encoded data removed]",
      "text/plain": [
       "<Figure size 432x288 with 1 Axes>"
      ]
     },
     "metadata": {
      "needs_background": "light"
     },
     "output_type": "display_data"
    }
   ],
   "source": [
    "#Ejercicio 1\n",
    "#Coge un texto en inglés que quieras, y calcula la frecuencia de sus palabras.\n",
    "\n",
    "\n",
    "#Loading NLTK\n",
    "import nltk\n",
    "\n",
    "from nltk.tokenize import sent_tokenize\n",
    "text=\"\"\"In recent years, there has been exceptional momentum in the progress of quantum technologies. Quantum computing, communication and security are set to become a vital part of the connectivity fabric. Are we ready for the Quantum Internet? What is needed to achieve quantum-safe cybersecurity? And what role will it play in the 6G era?\"\"\"\n",
    "\n",
    "tokenized_text=sent_tokenize(text)\n",
    "print(tokenized_text)\n",
    "\n",
    "from nltk.tokenize import word_tokenize\n",
    "tokenized_word=word_tokenize(text)\n",
    "print(tokenized_word)\n",
    "\n",
    "#Frequency Distribution\n",
    "from nltk.probability import FreqDist\n",
    "fdist = FreqDist(tokenized_word)\n",
    "print(fdist)\n",
    "\n",
    "fdist.most_common(2)\n",
    "\n",
    "# Frequency Distribution Plot\n",
    "import matplotlib.pyplot as plt\n",
    "fdist.plot(30,cumulative=False)\n",
    "plt.show()"
   ]
  },
  {
   "cell_type": "code",
   "execution_count": 23,
   "id": "e5a133ad",
   "metadata": {},
   "outputs": [
    {
     "name": "stdout",
     "output_type": "stream",
     "text": [
      "{'under', 'those', 'this', 'ma', 'what', 'just', 't', 'it', \"aren't\", 'until', 'on', 'do', 'mightn', 'its', 'or', \"needn't\", 'wasn', 'than', 'because', \"mightn't\", 'themselves', 'wouldn', 'his', 'she', 'we', 'had', \"wouldn't\", \"wasn't\", 'once', 'as', 'him', 'where', 'll', 'aren', 'but', 'yours', 'which', 'against', 'he', 'hers', 'can', 's', \"you'd\", 'me', \"mustn't\", 'doing', \"don't\", 'her', 'yourself', 'further', 'you', 'few', 'by', 'having', 'from', 'then', 'shan', 'should', 'while', 'd', 'own', 'theirs', 'off', \"you've\", 'how', 'weren', 'hasn', \"it's\", 'same', 'was', 've', 'at', 'shouldn', \"won't\", 'm', 'some', 'their', 'before', 'has', 'doesn', 'ours', 'a', 'if', \"you're\", 'been', 'did', 'into', 'here', 'ain', 'being', \"couldn't\", \"shan't\", 'be', 'will', 'so', 'for', 'between', 'ourselves', 'who', 'herself', \"she's\", 'over', 'again', 'didn', 'y', 'any', 'these', 'during', \"shouldn't\", 'too', 'yourselves', 'mustn', 'not', 'above', 'and', \"hasn't\", 'the', 'myself', \"isn't\", 'both', 'only', 'nor', 'don', 'isn', 'itself', \"should've\", 'when', 'of', 'up', 'after', 'they', 'below', 'couldn', 'all', 'to', 'in', 'is', 'more', 'no', 'down', 'needn', 'have', 'our', 'there', 'were', 'each', 'such', 'that', 'other', \"hadn't\", 'am', \"weren't\", 'hadn', \"didn't\", 'why', 'whom', \"that'll\", \"doesn't\", \"haven't\", 'o', 'with', 'through', 'now', 're', \"you'll\", 'out', 'very', 'does', 'haven', 'won', 'them', 'about', 'an', 'himself', 'my', 'are', 'your', 'most', 'i'}\n",
      "Tokenized Sentence: ['In', 'recent', 'years', ',', 'there', 'has', 'been', 'exceptional', 'momentum', 'in', 'the', 'progress', 'of', 'quantum', 'technologies', '.', 'Quantum', 'computing', ',', 'communication', 'and', 'security', 'are', 'set', 'to', 'become', 'a', 'vital', 'part', 'of', 'the', 'connectivity', 'fabric', '.', 'Are', 'we', 'ready', 'for', 'the', 'Quantum', 'Internet', '?', 'What', 'is', 'needed', 'to', 'achieve', 'quantum-safe', 'cybersecurity', '?', 'And', 'what', 'role', 'will', 'it', 'play', 'in', 'the', '6G', 'era', '?']\n",
      "Filterd Sentence: ['In', 'recent', 'years', ',', 'exceptional', 'momentum', 'progress', 'quantum', 'technologies', '.', 'Quantum', 'computing', ',', 'communication', 'security', 'set', 'become', 'vital', 'part', 'connectivity', 'fabric', '.', 'Are', 'ready', 'Quantum', 'Internet', '?', 'What', 'needed', 'achieve', 'quantum-safe', 'cybersecurity', '?', 'And', 'role', 'play', '6G', 'era', '?']\n",
      "Filtered Sentence: ['In', 'recent', 'years', ',', 'exceptional', 'momentum', 'progress', 'quantum', 'technologies', '.', 'Quantum', 'computing', ',', 'communication', 'security', 'set', 'become', 'vital', 'part', 'connectivity', 'fabric', '.', 'Are', 'ready', 'Quantum', 'Internet', '?', 'What', 'needed', 'achieve', 'quantum-safe', 'cybersecurity', '?', 'And', 'role', 'play', '6G', 'era', '?']\n",
      "Stemmed Sentence: ['in', 'recent', 'year', ',', 'except', 'momentum', 'progress', 'quantum', 'technolog', '.', 'quantum', 'comput', ',', 'commun', 'secur', 'set', 'becom', 'vital', 'part', 'connect', 'fabric', '.', 'are', 'readi', 'quantum', 'internet', '?', 'what', 'need', 'achiev', 'quantum-saf', 'cybersecur', '?', 'and', 'role', 'play', '6g', 'era', '?']\n"
     ]
    }
   ],
   "source": [
    "#Ejercicio 2\n",
    "#Saca las stopwords y realiza stemming en tu conjunto de datos.\n",
    "#Stopwords\n",
    "from nltk.corpus import stopwords\n",
    "stop_words=set(stopwords.words(\"english\"))\n",
    "print(stop_words)\n",
    "#Removing Stopwords\n",
    "filtered_sent=[]\n",
    "for w in tokenized_word:\n",
    "    if w not in stop_words:\n",
    "        filtered_sent.append(w)\n",
    "print(\"Tokenized Sentence:\",tokenized_word)\n",
    "print(\"Filterd Sentence:\",filtered_sent)\n",
    "\n",
    "\n",
    "# Stemming\n",
    "from nltk.stem import PorterStemmer\n",
    "from nltk.tokenize import sent_tokenize, word_tokenize\n",
    "\n",
    "ps = PorterStemmer()\n",
    "\n",
    "stemmed_words=[]\n",
    "for w in filtered_sent:\n",
    "    stemmed_words.append(ps.stem(w))\n",
    "\n",
    "print(\"Filtered Sentence:\",filtered_sent)\n",
    "print(\"Stemmed Sentence:\",stemmed_words)\n"
   ]
  },
  {
   "cell_type": "code",
   "execution_count": 40,
   "id": "1a4840fa",
   "metadata": {},
   "outputs": [
    {
     "name": "stdout",
     "output_type": "stream",
     "text": [
      "Requirement already satisfied: textblob in c:\\users\\hp\\anaconda3\\lib\\site-packages (0.17.1)"
     ]
    },
    {
     "data": {
      "text/plain": [
       "Sentiment(polarity=0.24166666666666664, subjectivity=0.5375)"
      ]
     },
     "execution_count": 40,
     "metadata": {},
     "output_type": "execute_result"
    },
    {
     "name": "stdout",
     "output_type": "stream",
     "text": [
      "\n",
      "Requirement already satisfied: nltk>=3.1 in c:\\users\\hp\\anaconda3\\lib\\site-packages (from textblob) (3.7)\n",
      "Requirement already satisfied: regex>=2021.8.3 in c:\\users\\hp\\anaconda3\\lib\\site-packages (from nltk>=3.1->textblob) (2022.3.15)\n",
      "Requirement already satisfied: click in c:\\users\\hp\\anaconda3\\lib\\site-packages (from nltk>=3.1->textblob) (8.0.4)\n",
      "Requirement already satisfied: joblib in c:\\users\\hp\\anaconda3\\lib\\site-packages (from nltk>=3.1->textblob) (1.1.0)\n",
      "Requirement already satisfied: tqdm in c:\\users\\hp\\anaconda3\\lib\\site-packages (from nltk>=3.1->textblob) (4.64.0)\n",
      "Requirement already satisfied: colorama in c:\\users\\hp\\anaconda3\\lib\\site-packages (from click->nltk>=3.1->textblob) (0.4.4)\n"
     ]
    }
   ],
   "source": [
    "#Ejercicio 3\n",
    "#Realiza sentimiento analysis en tu conjunto de datos.\n",
    "!pip install textblob      \n",
    "\n",
    "import textblob            \n",
    "from textblob import TextBlob\n",
    "\n",
    "\n",
    "testimonial = TextBlob(\"In recent years, there has been exceptional momentum in the progress of quantum technologies. Quantum computing, communication and security are set to become a vital part of the connectivity fabric. Are we ready for the Quantum Internet? What is needed to achieve quantum-safe cybersecurity? And what role will it play in the 6G era?\")\n",
    "testimonial.sentiment\n",
    "\n"
   ]
  },
  {
   "cell_type": "code",
   "execution_count": null,
   "id": "55b84b29",
   "metadata": {},
   "outputs": [],
   "source": []
  },
  {
   "cell_type": "code",
   "execution_count": null,
   "id": "a32b0d6c",
   "metadata": {},
   "outputs": [],
   "source": [
    "nltk.download()"
   ]
  }
 ],
 "metadata": {
  "kernelspec": {
   "display_name": "Python 3 (ipykernel)",
   "language": "python",
   "name": "python3"
  },
  "language_info": {
   "codemirror_mode": {
    "name": "ipython",
    "version": 3
   },
   "file_extension": ".py",
   "mimetype": "text/x-python",
   "name": "python",
   "nbconvert_exporter": "python",
   "pygments_lexer": "ipython3",
   "version": "3.9.12"
  }
 },
 "nbformat": 4,
 "nbformat_minor": 5
}
